{
 "cells": [
  {
   "cell_type": "code",
   "id": "initial_id",
   "metadata": {
    "collapsed": true,
    "jupyter": {
     "is_executing": true
    },
    "ExecuteTime": {
     "start_time": "2024-06-08T16:56:20.040270Z"
    }
   },
   "source": [
    "import os\n",
    "import certifi\n",
    "import pandas as pd\n",
    "from geopy.geocoders import GoogleV3\n",
    "from geopy.extra.rate_limiter import RateLimiter\n",
    "\n",
    "# Set the SSL certificate file\n",
    "os.environ['SSL_CERT_FILE'] = certifi.where()\n",
    "city = \"INSIRA NOME DA CIDADE AQUI\"\n",
    "country = \"INSIRA NOME DO PAÍS AQUI\"\n",
    "\n",
    "# Make sure the API key is set in the environment variables\n",
    "api_key = os.environ.get('API_KEY')\n",
    "# Load your dataset\n",
    "file_path = 'data/cleaned/greater-vancouver-area-cleaned.csv'\n",
    "data = pd.read_csv(file_path)\n",
    "\n",
    "# Initialize the geocoder with the API key\n",
    "geolocator = GoogleV3(api_key=api_key)\n",
    "geocode = RateLimiter(geolocator.geocode, min_delay_seconds=1)\n",
    "\n",
    "# Function to get coordinates\n",
    "def get_coordinates(intersection, city, country):\n",
    "    try:\n",
    "        location = geocode(intersection + \", \" + city + \", \" + country)\n",
    "        return (location.latitude, location.longitude) if location else (None, None)\n",
    "    except Exception as e:\n",
    "        print(f\"Error geocoding {intersection}: {e}\")\n",
    "        return (None, None)\n",
    "\n",
    "# Apply the function to the nearest intersection column\n",
    "data[['latitude', 'longitude']] = data['Nearest intersection'].apply(lambda x: pd.Series(get_coordinates(x)))\n",
    "\n",
    "# Save the updated dataframe with coordinates to a new CSV file\n",
    "output_file_path = f'data/cleaned/coordinates/{city}-{country}-area-with-coordinates.csv'\n",
    "data.to_csv(output_file_path, index=False)\n",
    "\n",
    "# Display the first few rows to check the results\n",
    "print(data.head())\n"
   ],
   "outputs": [],
   "execution_count": null
  },
  {
   "metadata": {
    "jupyter": {
     "is_executing": true
    }
   },
   "cell_type": "code",
   "source": "",
   "id": "f78c71e268520773",
   "outputs": [],
   "execution_count": null
  }
 ],
 "metadata": {
  "kernelspec": {
   "display_name": "Python 3",
   "language": "python",
   "name": "python3"
  },
  "language_info": {
   "codemirror_mode": {
    "name": "ipython",
    "version": 2
   },
   "file_extension": ".py",
   "mimetype": "text/x-python",
   "name": "python",
   "nbconvert_exporter": "python",
   "pygments_lexer": "ipython2",
   "version": "2.7.6"
  }
 },
 "nbformat": 4,
 "nbformat_minor": 5
}
